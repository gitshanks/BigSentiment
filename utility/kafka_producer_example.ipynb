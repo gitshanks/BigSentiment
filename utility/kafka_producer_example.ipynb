{
 "cells": [
  {
   "cell_type": "code",
   "execution_count": 1,
   "metadata": {},
   "outputs": [
    {
     "data": {
      "text/plain": [
       "<kafka.producer.future.FutureRecordMetadata at 0x11e59fa90>"
      ]
     },
     "execution_count": 1,
     "metadata": {},
     "output_type": "execute_result"
    }
   ],
   "source": [
    "from time import sleep\n",
    "from json import dumps\n",
    "from kafka import KafkaProducer\n",
    "import pandas as pd\n",
    "import random\n",
    "\n",
    "# Purpose: test code for sending a single example JSON to a Kafka topic hosted on our GCP instance\n",
    "producer = KafkaProducer(bootstrap_servers=['35.232.117.118:9092'], \n",
    "                        value_serializer=lambda x: dumps(x).encode('utf-8'),\n",
    "                        api_version = (0,10))\n",
    "\n",
    "\n",
    "\n",
    "sample_json = {\n",
    "    \"id\": \"t_1118964269264121861\",\n",
    "    \"city\": \"\",\n",
    "    \"post_date\": \"2019-04-18T19:47:25+00:00\",\n",
    "    \"title\": \"What is the biggest 'oh fuck, I'm dead' thing you've done at work, but nobody ever found out?\",\n",
    "    \"hashtag\": \"Fuck\",\n",
    "    \"source\": \"twitter\",\n",
    "    \"author\": \"JanellBubb\",\n",
    "    \"upvotes\": 2259\n",
    "}\n",
    "\n",
    "producer.send('test', value=sample_json)"
   ]
  }
 ],
 "metadata": {
  "kernelspec": {
   "display_name": "Python 3",
   "language": "python",
   "name": "python3"
  },
  "language_info": {
   "codemirror_mode": {
    "name": "ipython",
    "version": 3
   },
   "file_extension": ".py",
   "mimetype": "text/x-python",
   "name": "python",
   "nbconvert_exporter": "python",
   "pygments_lexer": "ipython3",
   "version": "3.7.2"
  }
 },
 "nbformat": 4,
 "nbformat_minor": 2
}
