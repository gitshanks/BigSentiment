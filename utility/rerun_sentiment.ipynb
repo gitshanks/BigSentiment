{
 "cells": [
  {
   "cell_type": "code",
   "execution_count": null,
   "metadata": {},
   "outputs": [],
   "source": [
    "from elasticsearch import Elasticsearch\n",
    "import json\n",
    "from kafka import KafkaProducer\n",
    "from json import dumps\n",
    "import time\n",
    "\n",
    "'''Purpose: Originally, records were retrieved from Twitter and Reddit and stored directly in Elasticsearch without assigning \n",
    "sentiment scores. This code extracts all records from original index and sends them into the Kafka-Spark-Elasticsearch pipeline\n",
    "so that they are properly assigned a sentiment score and reindexed. \n",
    "'''\n",
    "def main():    \n",
    "    producer = KafkaProducer(bootstrap_servers=['35.232.117.118:9092'], \n",
    "                            value_serializer=lambda x: dumps(x).encode('utf-8'),\n",
    "                            buffer_memory = 200000000, \n",
    "                            linger_ms = 500,\n",
    "                            api_version = (0,10))\n",
    "\n",
    "    es = Elasticsearch('34.73.60.209:9200')\n",
    "\n",
    "    es_query = {\n",
    "            'size' : 10000,\n",
    "            'query': {\n",
    "                'match_all' : {}\n",
    "           }\n",
    "       }\n",
    "\n",
    "    result = es.search(\n",
    "        index='trending', \n",
    "        doc_type='_doc', \n",
    "        body =es_query,\n",
    "        scroll=\"1m\")\n",
    "\n",
    "    scrollId = result['_scroll_id']\n",
    "\n",
    "    scrollSize = result['hits']['total']\n",
    "    print('Total records: ', scrollSize)\n",
    "    docs_sent = 0\n",
    "    while scrollSize > 0 :\n",
    "        for i in range (0, len(result['hits']['hits'])) :\n",
    "            data = result['hits']['hits'][i]\n",
    "            data['_source']['id'] = data['_id']\n",
    "            data = data['_source']\n",
    "            producer.send('trending', value=data)\n",
    "            scrollSize -= 1\n",
    "        \n",
    "        time.sleep(5)\n",
    "        docs_sent+= 10000\n",
    "        print('Remaining Documents: ',scrollSize)\n",
    "        print('Documents Sent: ',docs_sent)\n",
    "        result = es.scroll(scroll_id=scrollId, scroll='1m')\n",
    "        \n",
    "if __name__ == '__main__':\n",
    "   main()"
   ]
  }
 ],
 "metadata": {
  "kernelspec": {
   "display_name": "Python 3",
   "language": "python",
   "name": "python3"
  },
  "language_info": {
   "codemirror_mode": {
    "name": "ipython",
    "version": 3
   },
   "file_extension": ".py",
   "mimetype": "text/x-python",
   "name": "python",
   "nbconvert_exporter": "python",
   "pygments_lexer": "ipython3",
   "version": "3.7.2"
  }
 },
 "nbformat": 4,
 "nbformat_minor": 2
}
